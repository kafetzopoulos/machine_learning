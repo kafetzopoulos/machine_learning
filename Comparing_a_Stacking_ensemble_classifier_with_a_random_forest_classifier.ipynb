{
 "cells": [
  {
   "cell_type": "markdown",
   "id": "72352ddf",
   "metadata": {},
   "source": [
    "Comparing a Stacking ensemble classifier with a random forest classifier"
   ]
  },
  {
   "cell_type": "code",
   "execution_count": 2,
   "id": "35a66c25",
   "metadata": {},
   "outputs": [],
   "source": [
    "# initial imports\n",
    "from sklearn.datasets import fetch_openml\n",
    "from sklearn.decomposition import PCA\n",
    "from sklearn.ensemble import AdaBoostClassifier\n",
    "from sklearn.svm import LinearSVC\n",
    "from sklearn.tree import DecisionTreeClassifier\n",
    "from sklearn.linear_model import LogisticRegression\n",
    "from sklearn.ensemble import RandomForestClassifier\n",
    "from sklearn.ensemble import StackingClassifier\n",
    "# global variables\n",
    "seed = 42"
   ]
  },
  {
   "cell_type": "code",
   "execution_count": 3,
   "id": "37333bf4",
   "metadata": {},
   "outputs": [],
   "source": [
    "#fetching the MNIST data\n",
    "X_mnist, y_mnist = fetch_openml('mnist_784', return_X_y = True, as_frame = False)\n"
   ]
  },
  {
   "cell_type": "code",
   "execution_count": 4,
   "id": "a9367b5e",
   "metadata": {},
   "outputs": [],
   "source": [
    "# splitting the data to training (6/7) and test (1/7)\n",
    "X_train, y_train = X_mnist[:60_000]/255., y_mnist[:60_000]\n",
    "X_test, y_test = X_mnist[60_000:]/255., y_mnist[60_000:]"
   ]
  },
  {
   "cell_type": "markdown",
   "id": "11e7899e",
   "metadata": {},
   "source": [
    "Using principal component analysis (PCA) to reduce the dimensions of the system and preserve 90% of the training set’s variance."
   ]
  },
  {
   "cell_type": "code",
   "execution_count": 5,
   "id": "5d0026ff",
   "metadata": {},
   "outputs": [],
   "source": [
    "pca = PCA(0.9)\n",
    "X_train = pca.fit_transform(X_train)\n",
    "X_test = pca.transform(X_test)\n"
   ]
  },
  {
   "cell_type": "markdown",
   "id": "ee44570d",
   "metadata": {},
   "source": [
    "Training a Decision Tree with maximum depth equal to 10, \n",
    "\n",
    "a Random Forest with 50 estimators, \n",
    "\n",
    "an AdA-Boost with 50 estimators, \n",
    "\n",
    "a LinearSVC with maximum iterations equal to 500, \n",
    "\n",
    "and a Logistic Regression with maximum iterations equal to 500 classifier on the training set.\n",
    "\n",
    "Calculating the score of each one of the estimators on the test set."
   ]
  },
  {
   "cell_type": "code",
   "execution_count": 6,
   "id": "aaa2bbb3",
   "metadata": {},
   "outputs": [],
   "source": [
    "# Decision tree with maximum depth 10\n",
    "dt = DecisionTreeClassifier(max_depth = 10, random_state = seed)\n",
    "\n",
    "# Random Forest with 50 estimators\n",
    "rf = RandomForestClassifier(n_estimators = 50, random_state = seed)\n",
    "\n",
    "# AdA-Boost with 50 estimators\n",
    "ada = AdaBoostClassifier(n_estimators = 50, random_state = seed)\n",
    "\n",
    "# LinearSVC with maximum iterations equal to 500\n",
    "svc = LinearSVC(max_iter = 500, random_state = seed)\n",
    "\n",
    "# Logistic Regression with maximum iterations equal to 500\n",
    "logi = LogisticRegression(max_iter = 500, random_state = seed)"
   ]
  },
  {
   "cell_type": "code",
   "execution_count": 11,
   "id": "c0d2308c",
   "metadata": {},
   "outputs": [],
   "source": [
    "# making a list with all the classifiers and their names\n",
    "classifier_list = [(\"DecisionTreeClassifier\", dt),\n",
    "                   (\"RandomForestClassifier\",rf),\n",
    "                   (\"AdaBoostClassifier\",ada),\n",
    "                   (\"LinearSVC\",svc),\n",
    "                   (\"LogisticRegression\",logi),]"
   ]
  },
  {
   "cell_type": "code",
   "execution_count": 12,
   "id": "0d89846a",
   "metadata": {},
   "outputs": [
    {
     "name": "stdout",
     "output_type": "stream",
     "text": [
      "Training the DecisionTreeClassifier(max_depth=10, random_state=42)\n",
      "Training the RandomForestClassifier(n_estimators=50, random_state=42)\n",
      "Training the AdaBoostClassifier(random_state=42)\n",
      "Training the LinearSVC(max_iter=500, random_state=42)\n"
     ]
    },
    {
     "name": "stderr",
     "output_type": "stream",
     "text": [
      "C:\\Users\\nomad\\anaconda3\\lib\\site-packages\\sklearn\\svm\\_base.py:1206: ConvergenceWarning: Liblinear failed to converge, increase the number of iterations.\n",
      "  warnings.warn(\n"
     ]
    },
    {
     "name": "stdout",
     "output_type": "stream",
     "text": [
      "Training the LogisticRegression(max_iter=500, random_state=42)\n"
     ]
    }
   ],
   "source": [
    "# creating a list and appending the individual scores\n",
    "scores = {}\n",
    "for classifier in classifier_list:\n",
    "    name, classifier = classifier\n",
    "    print(\"Training the\", classifier)\n",
    "    classifier.fit(X_train, y_train)\n",
    "    score = classifier.score(X_test, y_test)\n",
    "    scores[name] = score\n"
   ]
  },
  {
   "cell_type": "code",
   "execution_count": 13,
   "id": "21d7e86d",
   "metadata": {},
   "outputs": [
    {
     "name": "stdout",
     "output_type": "stream",
     "text": [
      "DecisionTreeClassifier: 0.7970\n",
      "RandomForestClassifier: 0.9468\n",
      "AdaBoostClassifier: 0.7152\n",
      "LinearSVC: 0.9114\n",
      "LogisticRegression: 0.9195\n"
     ]
    }
   ],
   "source": [
    "# printing the scores\n",
    "for clf_name, clf_score in scores.items():\n",
    "    print (f\"{clf_name}: {clf_score:.4f}\")\n"
   ]
  },
  {
   "cell_type": "markdown",
   "id": "7e859db7",
   "metadata": {},
   "source": [
    "Combining the previous classifiers into a Stacking Ensemble classifier with 3-fold cross-validation and a Random Forest Classifier as the final\n",
    "classifier."
   ]
  },
  {
   "cell_type": "code",
   "execution_count": 18,
   "id": "afeb8a8b",
   "metadata": {},
   "outputs": [
    {
     "name": "stderr",
     "output_type": "stream",
     "text": [
      "C:\\Users\\nomad\\anaconda3\\lib\\site-packages\\sklearn\\svm\\_base.py:1206: ConvergenceWarning: Liblinear failed to converge, increase the number of iterations.\n",
      "  warnings.warn(\n",
      "C:\\Users\\nomad\\anaconda3\\lib\\site-packages\\sklearn\\svm\\_base.py:1206: ConvergenceWarning: Liblinear failed to converge, increase the number of iterations.\n",
      "  warnings.warn(\n",
      "C:\\Users\\nomad\\anaconda3\\lib\\site-packages\\sklearn\\svm\\_base.py:1206: ConvergenceWarning: Liblinear failed to converge, increase the number of iterations.\n",
      "  warnings.warn(\n",
      "C:\\Users\\nomad\\anaconda3\\lib\\site-packages\\sklearn\\svm\\_base.py:1206: ConvergenceWarning: Liblinear failed to converge, increase the number of iterations.\n",
      "  warnings.warn(\n"
     ]
    },
    {
     "data": {
      "text/plain": [
       "StackingClassifier(cv=3,\n",
       "                   estimators=[('DecisionTreeClassifier',\n",
       "                                DecisionTreeClassifier(max_depth=10,\n",
       "                                                       random_state=42)),\n",
       "                               ('RandomForestClassifier',\n",
       "                                RandomForestClassifier(n_estimators=50,\n",
       "                                                       random_state=42)),\n",
       "                               ('AdaBoostClassifier',\n",
       "                                AdaBoostClassifier(random_state=42)),\n",
       "                               ('LinearSVC',\n",
       "                                LinearSVC(max_iter=500, random_state=42)),\n",
       "                               ('LogisticRegression',\n",
       "                                LogisticRegression(max_iter=500,\n",
       "                                                   random_state=42))],\n",
       "                   final_estimator=RandomForestClassifier(random_state=42))"
      ]
     },
     "execution_count": 18,
     "metadata": {},
     "output_type": "execute_result"
    }
   ],
   "source": [
    "# stacking the classifiers into a stacking ensemble classifier\n",
    "stack = StackingClassifier(\n",
    "    estimators = classifier_list,\n",
    "    final_estimator = RandomForestClassifier(random_state = seed),\n",
    "    cv = 3)\n",
    "stack.fit(X_train, y_train)"
   ]
  },
  {
   "cell_type": "code",
   "execution_count": 19,
   "id": "cc1e7fdd",
   "metadata": {},
   "outputs": [
    {
     "name": "stdout",
     "output_type": "stream",
     "text": [
      "Stacking score: 0.9569\n"
     ]
    }
   ],
   "source": [
    "# stacking score\n",
    "stack_score = stack.score(X_test, y_test)\n",
    "print (f\"Stacking score: {stack_score}\")\n"
   ]
  },
  {
   "cell_type": "markdown",
   "id": "b96978c1",
   "metadata": {},
   "source": [
    "The stacking classifier performs a bit better than most classifiers with a score of 0.9569 just above the Random Forest Classifier with a score of\n",
    "0.946"
   ]
  },
  {
   "cell_type": "code",
   "execution_count": null,
   "id": "bb17e326",
   "metadata": {},
   "outputs": [],
   "source": []
  },
  {
   "cell_type": "code",
   "execution_count": null,
   "id": "18320529",
   "metadata": {},
   "outputs": [],
   "source": []
  },
  {
   "cell_type": "code",
   "execution_count": null,
   "id": "2c1abc9f",
   "metadata": {},
   "outputs": [],
   "source": []
  },
  {
   "cell_type": "code",
   "execution_count": null,
   "id": "b20bb04e",
   "metadata": {},
   "outputs": [],
   "source": []
  }
 ],
 "metadata": {
  "kernelspec": {
   "display_name": "Python 3 (ipykernel)",
   "language": "python",
   "name": "python3"
  },
  "language_info": {
   "codemirror_mode": {
    "name": "ipython",
    "version": 3
   },
   "file_extension": ".py",
   "mimetype": "text/x-python",
   "name": "python",
   "nbconvert_exporter": "python",
   "pygments_lexer": "ipython3",
   "version": "3.9.13"
  }
 },
 "nbformat": 4,
 "nbformat_minor": 5
}
