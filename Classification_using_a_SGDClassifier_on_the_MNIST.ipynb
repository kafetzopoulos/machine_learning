{
 "cells": [
  {
   "cell_type": "markdown",
   "id": "ea457953",
   "metadata": {},
   "source": [
    "Classification using a SGDClassifier on the MNIST dataset and plotting the ROC curve."
   ]
  },
  {
   "cell_type": "code",
   "execution_count": 4,
   "id": "9029dbae",
   "metadata": {},
   "outputs": [],
   "source": [
    "import sys\n",
    "assert sys.version_info >= (3, 7)\n",
    "from packaging import version\n",
    "import sklearn\n",
    "assert version.parse(sklearn.__version__) >= version.parse(\"1.0.1\")\n",
    "import matplotlib.pyplot as plt\n",
    "from sklearn.datasets import fetch_openml\n",
    "\n",
    "# global variables\n",
    "seed = 42\n",
    "\n",
    "plt.rc('font', size=14)\n",
    "plt.rc('axes', labelsize=14, titlesize=14)\n",
    "plt.rc('legend', fontsize=14)\n",
    "plt.rc('xtick', labelsize=10)\n",
    "plt.rc('ytick', labelsize=10)\n",
    "\n",
    "mnist = fetch_openml('mnist_784', as_frame=False)"
   ]
  },
  {
   "cell_type": "code",
   "execution_count": 5,
   "id": "6664fb81",
   "metadata": {},
   "outputs": [],
   "source": [
    "X, y = mnist.data, mnist.target"
   ]
  },
  {
   "cell_type": "markdown",
   "id": "8d80b31c",
   "metadata": {},
   "source": [
    "Loading the data and spliting them into training (6/7) and test (1/7) sets."
   ]
  },
  {
   "cell_type": "code",
   "execution_count": 6,
   "id": "dcfa56e6",
   "metadata": {},
   "outputs": [],
   "source": [
    "X_train, X_test, y_train, y_test = X[:60000], X[60000:], y[:60000], y[60000:]"
   ]
  },
  {
   "cell_type": "code",
   "execution_count": 14,
   "id": "5a3dfbfd",
   "metadata": {},
   "outputs": [
    {
     "data": {
      "image/png": "[encoded data removed]",
      "text/plain": [
       "<Figure size 640x480 with 1 Axes>"
      ]
     },
     "metadata": {},
     "output_type": "display_data"
    },
    {
     "name": "stdout",
     "output_type": "stream",
     "text": [
      "This is a 5\n"
     ]
    }
   ],
   "source": [
    "# display the first digit and its label value of the training set\n",
    "plt.imshow(X_train[0].reshape((28,28)))\n",
    "plt.show()\n",
    "print(f\"This is a {y_train[0]}\")"
   ]
  },
  {
   "cell_type": "markdown",
   "id": "38b0232d",
   "metadata": {},
   "source": [
    "Training a SGDClassifier to distinguish between two classes, 4 and not-4."
   ]
  },
  {
   "cell_type": "code",
   "execution_count": 16,
   "id": "9f6fa969",
   "metadata": {},
   "outputs": [
    {
     "data": {
      "text/plain": [
       "SGDClassifier(random_state=42)"
      ]
     },
     "execution_count": 16,
     "metadata": {},
     "output_type": "execute_result"
    }
   ],
   "source": [
    "# True for all 4s, False for all other digits\n",
    "y_train_4 = (y_train == '4')  \n",
    "y_test_4 = (y_test == '4')\n",
    "\n",
    "# Training the data with a SGD classifier\n",
    "from sklearn.linear_model import SGDClassifier\n",
    "\n",
    "sgd_clf = SGDClassifier(max_iter=1000, tol=1e-3, random_state=seed)\n",
    "sgd_clf.fit(X_train, y_train_4)"
   ]
  },
  {
   "cell_type": "code",
   "execution_count": 17,
   "id": "d40c4258",
   "metadata": {},
   "outputs": [
    {
     "data": {
      "image/png": "[encoded data removed]",
      "text/plain": [
       "<Figure size 640x480 with 1 Axes>"
      ]
     },
     "metadata": {},
     "output_type": "display_data"
    },
    {
     "name": "stdout",
     "output_type": "stream",
     "text": [
      "This is not a four\n"
     ]
    }
   ],
   "source": [
    "# display the first digit and its label value of the training set\n",
    "plt.imshow(X_train[0].reshape((28,28)))\n",
    "plt.show()\n",
    "print(f\"This is {'a four' if y_train_4[0] else 'not a four'}\")"
   ]
  },
  {
   "cell_type": "markdown",
   "id": "96e2ed8a",
   "metadata": {},
   "source": [
    "Using 3-fold cross validation and evaluating my model by calculating the metrics: accuracy, recall, and precision. Comparing the accuracy of my model to the accuracy of a model that always guesses that an image is not a 4."
   ]
  },
  {
   "cell_type": "code",
   "execution_count": 28,
   "id": "7cffb234",
   "metadata": {},
   "outputs": [],
   "source": [
    "# calculate the accuracy, recall and precision of the training set\n",
    "from sklearn.model_selection import cross_validate\n",
    "scores = cross_validate(sgd_clf, X_train, y_train_4, cv=3,\n",
    "                        scoring=['accuracy', 'recall', 'precision'])"
   ]
  },
  {
   "cell_type": "code",
   "execution_count": 29,
   "id": "35922a74",
   "metadata": {},
   "outputs": [
    {
     "name": "stdout",
     "output_type": "stream",
     "text": [
      "Accuracy of each fold: [0.9671  0.97645 0.9687 ], mean accuracy: 97.1%\n",
      "Recall of each fold: [0.94350282 0.8366718  0.93531828], mean recall: 90.5%\n",
      "Precision of each fold: [0.77023061 0.91414141 0.78466839], mean precision: 82.3%\n"
     ]
    }
   ],
   "source": [
    "print(f\"Accuracy of each fold: {scores['test_accuracy']}, mean accuracy: {100*scores['test_accuracy'].mean():.1f}%\")\n",
    "print(f\"Recall of each fold: {scores['test_recall']}, mean recall: {100*scores['test_recall'].mean():.1f}%\")\n",
    "print(f\"Precision of each fold: {scores['test_precision']}, mean precision: {100*scores['test_precision'].mean():.1f}%\")"
   ]
  },
  {
   "cell_type": "code",
   "execution_count": 30,
   "id": "7fe06039",
   "metadata": {},
   "outputs": [
    {
     "name": "stdout",
     "output_type": "stream",
     "text": [
      "Accuracy of a model that always guesses not a 4: 90.3%\n"
     ]
    }
   ],
   "source": [
    "# an easy way to calculate the accuracy of a model that always guesses an image is not a 4, you can sum up all the correct guesses,\n",
    "# i.e., the non-4 images in the dataset, and divide that by the total number of images. \n",
    "non_4_accuracy = (y_train_4 == 0).sum()/len(y_train_4)\n",
    "print (f\"Accuracy of a model that always guesses not a 4: {100*non_4_accuracy:.1f}%\")"
   ]
  },
  {
   "cell_type": "code",
   "execution_count": 31,
   "id": "dbd45420",
   "metadata": {},
   "outputs": [],
   "source": [
    "from sklearn.model_selection import cross_val_predict\n",
    "y_train_pred = cross_val_predict(sgd_clf, X_train, y_train_4, cv=3)"
   ]
  },
  {
   "cell_type": "code",
   "execution_count": 32,
   "id": "86d70464",
   "metadata": {},
   "outputs": [
    {
     "data": {
      "text/plain": [
       "array([[52957,  1201],\n",
       "       [  554,  5288]], dtype=int64)"
      ]
     },
     "execution_count": 32,
     "metadata": {},
     "output_type": "execute_result"
    }
   ],
   "source": [
    "from sklearn.metrics import confusion_matrix\n",
    "confusion_matrix(y_train_4, y_train_pred)"
   ]
  },
  {
   "cell_type": "markdown",
   "id": "c7b951ab",
   "metadata": {},
   "source": [
    "52957 were correctly calssified as non-4s (TN)\n",
    "\n",
    "5288 were correctly classified as 4s (TP)\n",
    "\n",
    "1201 were wrongly classified as 4s (FP)\n",
    "\n",
    "554 were wrongly classified as non-4s (FN)"
   ]
  },
  {
   "cell_type": "markdown",
   "id": "4e3e587a",
   "metadata": {},
   "source": [
    "Ploting the ROC curve and calculating the area under the curve (AUC)."
   ]
  },
  {
   "cell_type": "code",
   "execution_count": 33,
   "id": "755d67c4",
   "metadata": {},
   "outputs": [],
   "source": [
    "y_scores = cross_val_predict(sgd_clf, X_train, y_train_4, cv=3, method=\"decision_function\")"
   ]
  },
  {
   "cell_type": "code",
   "execution_count": 34,
   "id": "5a34ff49",
   "metadata": {},
   "outputs": [],
   "source": [
    "from sklearn.metrics import roc_curve\n",
    "fpr, tpr, thresholds = roc_curve(y_train_4, y_scores)"
   ]
  },
  {
   "cell_type": "code",
   "execution_count": 35,
   "id": "411002e0",
   "metadata": {},
   "outputs": [
    {
     "data": {
      "image/png": "[encoded data removed]",
      "text/plain": [
       "<Figure size 800x600 with 1 Axes>"
      ]
     },
     "metadata": {},
     "output_type": "display_data"
    }
   ],
   "source": [
    "def plot_roc_curve(fpr, tpr, label=None):\n",
    "    plt.figure(figsize=(8, 6))                  \n",
    "    plt.plot(fpr, tpr, linewidth=2, label=label)\n",
    "    plt.plot([0, 1], [0, 1], 'k--', label=\"Random\")\n",
    "    plt.axis([0, 1, 0, 1])              \n",
    "    plt.xlabel(\"False Positive Rate\")\n",
    "    plt.ylabel(\"True Positive Rate\")\n",
    "    plt.legend()\n",
    "    plt.grid()\n",
    "\n",
    "plot_roc_curve(fpr, tpr, \"Model\")"
   ]
  },
  {
   "cell_type": "code",
   "execution_count": 36,
   "id": "40c39f37",
   "metadata": {},
   "outputs": [
    {
     "data": {
      "text/plain": [
       "0.9859276923382874"
      ]
     },
     "execution_count": 36,
     "metadata": {},
     "output_type": "execute_result"
    }
   ],
   "source": [
    "# calculating the area under the curve\n",
    "from sklearn.metrics import roc_auc_score\n",
    "roc_auc_score(y_train_4, y_scores)"
   ]
  },
  {
   "cell_type": "markdown",
   "id": "67c603db",
   "metadata": {},
   "source": [
    "With this model demonstration we can conclude that the area under the curve and the ROC perform well on the training data."
   ]
  }
 ],
 "metadata": {
  "kernelspec": {
   "display_name": "Python 3 (ipykernel)",
   "language": "python",
   "name": "python3"
  },
  "language_info": {
   "codemirror_mode": {
    "name": "ipython",
    "version": 3
   },
   "file_extension": ".py",
   "mimetype": "text/x-python",
   "name": "python",
   "nbconvert_exporter": "python",
   "pygments_lexer": "ipython3",
   "version": "3.9.13"
  }
 },
 "nbformat": 4,
 "nbformat_minor": 5
}
